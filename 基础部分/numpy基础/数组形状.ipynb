{
 "cells": [
  {
   "cell_type": "code",
   "execution_count": 1,
   "metadata": {},
   "outputs": [],
   "source": [
    "import numpy as np\n"
   ]
  },
  {
   "cell_type": "code",
   "execution_count": 2,
   "metadata": {},
   "outputs": [
    {
     "name": "stdout",
     "output_type": "stream",
     "text": [
      "[ 0  1  2  3  4  5  6  7  8  9 10 11]\n"
     ]
    },
    {
     "data": {
      "text/plain": [
       "array([[ 0,  1,  2,  3],\n",
       "       [ 4,  5,  6,  7],\n",
       "       [ 8,  9, 10, 11]])"
      ]
     },
     "execution_count": 2,
     "metadata": {},
     "output_type": "execute_result"
    }
   ],
   "source": [
    "t1=np.arange(12)\n",
    "print(t1)\n",
    "t1.shape # 查看形状\n",
    "t1.reshape((3,4))\n"
   ]
  },
  {
   "cell_type": "code",
   "execution_count": 14,
   "metadata": {},
   "outputs": [
    {
     "data": {
      "text/plain": [
       "array([[[ 0,  1,  2,  3],\n",
       "        [ 4,  5,  6,  7],\n",
       "        [ 8,  9, 10, 11]],\n",
       "\n",
       "       [[12, 13, 14, 15],\n",
       "        [16, 17, 18, 19],\n",
       "        [20, 21, 22, 23]]])"
      ]
     },
     "execution_count": 14,
     "metadata": {},
     "output_type": "execute_result"
    }
   ],
   "source": [
    "t2=np.arange(24).reshape(2,3,4)# 参数分别是块数、行数、列数，数字的个数代表维度\n",
    "t2"
   ]
  },
  {
   "cell_type": "code",
   "execution_count": 13,
   "metadata": {},
   "outputs": [
    {
     "data": {
      "text/plain": [
       "array([ 0,  1,  2,  3,  4,  5,  6,  7,  8,  9, 10, 11, 12, 13, 14, 15, 16,\n",
       "       17, 18, 19, 20, 21, 22, 23])"
      ]
     },
     "execution_count": 13,
     "metadata": {},
     "output_type": "execute_result"
    }
   ],
   "source": [
    "t2.flatten() #将数组按行展开成一维"
   ]
  },
  {
   "cell_type": "code",
   "execution_count": 15,
   "metadata": {},
   "outputs": [
    {
     "data": {
      "text/plain": [
       "array([[[ 2,  3,  4,  5],\n",
       "        [ 6,  7,  8,  9],\n",
       "        [10, 11, 12, 13]],\n",
       "\n",
       "       [[14, 15, 16, 17],\n",
       "        [18, 19, 20, 21],\n",
       "        [22, 23, 24, 25]]])"
      ]
     },
     "execution_count": 15,
     "metadata": {},
     "output_type": "execute_result"
    }
   ],
   "source": [
    "t2+2 #数组加法，给所有元素都加2\n"
   ]
  },
  {
   "cell_type": "code",
   "execution_count": 16,
   "metadata": {},
   "outputs": [
    {
     "data": {
      "text/plain": [
       "array([[[ 0. ,  0.5,  1. ,  1.5],\n",
       "        [ 2. ,  2.5,  3. ,  3.5],\n",
       "        [ 4. ,  4.5,  5. ,  5.5]],\n",
       "\n",
       "       [[ 6. ,  6.5,  7. ,  7.5],\n",
       "        [ 8. ,  8.5,  9. ,  9.5],\n",
       "        [10. , 10.5, 11. , 11.5]]])"
      ]
     },
     "execution_count": 16,
     "metadata": {},
     "output_type": "execute_result"
    }
   ],
   "source": [
    "t2/2\n"
   ]
  },
  {
   "cell_type": "code",
   "execution_count": 9,
   "metadata": {},
   "outputs": [
    {
     "data": {
      "text/plain": [
       "array([[[2.43735165, 2.34057994, 2.59188885, 4.22951612, 2.94322754],\n",
       "        [2.18807742, 4.37240376, 2.98524275, 4.85056002, 3.07564774],\n",
       "        [3.30591447, 4.34333776, 2.56021101, 3.02466362, 4.84595139],\n",
       "        [4.98686655, 3.74539075, 4.68878161, 4.98271936, 2.32433017]],\n",
       "\n",
       "       [[4.59779135, 2.91755554, 4.29120243, 3.61283433, 2.63181439],\n",
       "        [3.34010803, 3.26713945, 2.72294526, 2.86145666, 2.68655171],\n",
       "        [3.64186548, 4.71863111, 2.9555938 , 2.02111688, 3.11073563],\n",
       "        [2.48897821, 3.46599664, 4.71127027, 3.14993705, 2.36408254]],\n",
       "\n",
       "       [[4.01479057, 2.84355921, 3.16238744, 4.13998438, 4.68295328],\n",
       "        [4.2923563 , 4.08924954, 4.90545065, 3.65465953, 3.02513979],\n",
       "        [4.15466274, 3.12747934, 2.31584553, 3.1393399 , 2.65572221],\n",
       "        [3.65584993, 4.92808034, 4.06271286, 3.29076061, 4.78619036]]])"
      ]
     },
     "execution_count": 9,
     "metadata": {},
     "output_type": "execute_result"
    }
   ],
   "source": [
    "np.random.rand(2,3,4)\n",
    "np.random.uniform(2,5,size=(3,4,5))"
   ]
  },
  {
   "cell_type": "code",
   "execution_count": 11,
   "metadata": {},
   "outputs": [
    {
     "data": {
      "text/plain": [
       "array([[[1., 1., 1., 1., 1.],\n",
       "        [1., 1., 1., 1., 1.],\n",
       "        [1., 1., 1., 1., 1.],\n",
       "        [1., 1., 1., 1., 1.]],\n",
       "\n",
       "       [[1., 1., 1., 1., 1.],\n",
       "        [1., 1., 1., 1., 1.],\n",
       "        [1., 1., 1., 1., 1.],\n",
       "        [1., 1., 1., 1., 1.]],\n",
       "\n",
       "       [[1., 1., 1., 1., 1.],\n",
       "        [1., 1., 1., 1., 1.],\n",
       "        [1., 1., 1., 1., 1.],\n",
       "        [1., 1., 1., 1., 1.]]])"
      ]
     },
     "execution_count": 11,
     "metadata": {},
     "output_type": "execute_result"
    }
   ],
   "source": [
    "np.zeros((2,3,4))\n",
    "np.ones((3,4,5))"
   ]
  },
  {
   "cell_type": "code",
   "execution_count": 17,
   "metadata": {},
   "outputs": [
    {
     "data": {
      "text/plain": [
       "array([1.5e-323, 2.0e-323])"
      ]
     },
     "execution_count": 17,
     "metadata": {},
     "output_type": "execute_result"
    }
   ],
   "source": [
    "np.empty(2)"
   ]
  },
  {
   "cell_type": "code",
   "execution_count": 9,
   "metadata": {},
   "outputs": [
    {
     "data": {
      "text/plain": [
       "array([[[2, 1],\n",
       "        [1, 2],\n",
       "        [1, 1],\n",
       "        [1, 1]],\n",
       "\n",
       "       [[2, 1],\n",
       "        [2, 1],\n",
       "        [2, 2],\n",
       "        [2, 2]],\n",
       "\n",
       "       [[1, 2],\n",
       "        [1, 1],\n",
       "        [1, 1],\n",
       "        [2, 2]]])"
      ]
     },
     "execution_count": 9,
     "metadata": {},
     "output_type": "execute_result"
    }
   ],
   "source": [
    "np.random.randint(1,3,size=(3,2,4)).swapaxes(1,2)"
   ]
  },
  {
   "cell_type": "markdown",
   "metadata": {},
   "source": [
    "##### np.loadtxt(frame,dtype=np.float,delimiter=None,skipprows=0,usecols=None,unpack=False)\n",
    "skiprows 跳过开头x行，一般跳过开头第一行\n",
    "usecols读取指定数列，索引，元组类型\n"
   ]
  },
  {
   "cell_type": "code",
   "execution_count": null,
   "metadata": {},
   "outputs": [],
   "source": []
  }
 ],
 "metadata": {
  "kernelspec": {
   "display_name": "py310",
   "language": "python",
   "name": "python3"
  },
  "language_info": {
   "codemirror_mode": {
    "name": "ipython",
    "version": 3
   },
   "file_extension": ".py",
   "mimetype": "text/x-python",
   "name": "python",
   "nbconvert_exporter": "python",
   "pygments_lexer": "ipython3",
   "version": "3.10.14"
  }
 },
 "nbformat": 4,
 "nbformat_minor": 2
}
